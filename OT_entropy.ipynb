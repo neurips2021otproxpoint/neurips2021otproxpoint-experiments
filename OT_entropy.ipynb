{
 "cells": [
  {
   "cell_type": "code",
   "execution_count": 1,
   "metadata": {},
   "outputs": [],
   "source": [
    "import numpy as np\n",
    "import numpy.linalg as la\n",
    "import matplotlib.pyplot as plt\n",
    "import scipy.interpolate as intp\n",
    "from IPython.display import display\n",
    "from IPython.display import clear_output\n",
    "\n",
    "def marginals(x):\n",
    "    return np.append(x.sum(axis=1),x.sum(axis=0))\n",
    "\n",
    "def clip(x):\n",
    "    #returns x, clipped to be between -1 and 1\n",
    "    for idx in range(len(x)):\n",
    "        if x[idx] > 1:\n",
    "            x[idx] = 1\n",
    "        elif x[idx] < -1:\n",
    "            x[idx] = -1\n",
    "    return x\n",
    "\n",
    "def AWR_round(X,b):\n",
    "    #round an approximate transport map to feasible via algorithm of [AWR17]\n",
    "    v = np.minimum(b[:n]/(X@np.ones(n)),  np.ones(n)); X = np.diag(v) @ X\n",
    "    u = np.minimum(b[n:]/(X.T@np.ones(n)),np.ones(n)); X = X @ np.diag(u)\n",
    "    v = (b-marginals(X)); er = v[:n]; ec = v[n:]\n",
    "    return  X + np.outer(er,ec)/(er.sum())\n",
    "\n",
    "\n",
    "def AWR_round_impl(M,lscale, rscale, b):\n",
    "    #implicit formulation of above: given map of form lscale * X * rscale, computes modified scaling factors \n",
    "    #and rank 1 matrix to exactly satisfy marginals\n",
    "    v = np.minimum(b[:n]/(lscale*(M@rscale)),  np.ones(n)); \n",
    "    lscale = lscale*v\n",
    "    u = np.minimum(b[n:]/(rscale*(M.T@lscale)),np.ones(n)); \n",
    "    rscale = rscale*u\n",
    "    margi = np.append(lscale*(M@rscale), rscale*(M.T@lscale))\n",
    "    s = (b-margi); er = s[:n]; ec = s[n:]\n",
    "    return  lscale,rscale, er/er.sum(), ec # lscale * M * rscale + er ec^T is a transport map for b\n",
    "\n",
    "def entropy(X,threshhold=1e-18):\n",
    "    return np.sum(X*np.log(X+threshhold))"
   ]
  },
  {
   "cell_type": "code",
   "execution_count": 2,
   "metadata": {},
   "outputs": [],
   "source": [
    "import pandas as pd\n",
    "df = pd.read_csv('mnist_test.csv').sort_values(by=['7']).reset_index().drop(['index'],axis=1)\n",
    "ar = df['7'].to_numpy()\n",
    "counts = np.zeros(11)\n",
    "for i in range(10):\n",
    "    counts[i+1] =  counts[i] + ar[ar == i].shape[0]\n",
    "    \n",
    "def mnist_instance(df,counts,rng,i):\n",
    "    #generates an OT instance corresponding to two randomly chosen digits from MNIST with label i\n",
    "    n = 28\n",
    "    x1 = rng.integers(counts[i],counts[i+1])\n",
    "    x2 = rng.integers(counts[i],counts[i+1])\n",
    "    p = df.iloc[x1,1:].to_numpy(); p = p/p.sum()\n",
    "    q = df.iloc[x2,1:].to_numpy(); q = q/q.sum()\n",
    "    b = np.append(p,q)\n",
    "    b += 1/(n**6); b = 2*b/b.sum()\n",
    "    C = np.zeros((n**2,n**2))\n",
    "    for i1 in range(n):\n",
    "        for i2 in range(n):\n",
    "            for j1 in range(n):\n",
    "                for j2 in range(n):\n",
    "                    C[n*i1+i2,n*j1+j2] = (i1-j1)**2 + (i2-j2)**2\n",
    "    return b, C/(C.max())\n",
    "\n",
    "def sinkhorn_track_progress(M,r,c,T,reg):\n",
    "    alpha = np.zeros(n); beta = np.zeros(n)\n",
    "    u,v = np.ones(n)/n, np.ones(n)/n\n",
    "    scaling_ub = 1e15\n",
    "    def get_K(alpha, beta):\n",
    "        return np.exp(-(M - alpha.reshape((-1, 1))\n",
    "                        - beta.reshape((1, -1))) / reg)\n",
    "    \n",
    "    def form_tpm(alpha, beta, u, v):\n",
    "        return np.exp(-(M - alpha.reshape((-1, 1)) - beta.reshape((1, -1)))\n",
    "                      / reg + np.log(u.reshape((-1, 1))) + np.log(v.reshape((1, -1))))\n",
    "    \n",
    "    K = get_K(alpha,beta)\n",
    "    std_obj = []; entropy_obj = []; \n",
    "    for i in range(T): \n",
    "        u = r/(K@v); v = c/(K.T@u);\n",
    "        if abs(u).max() > scaling_ub or abs(v).max() > scaling_ub: #if entries of u,v are too large\n",
    "            alpha,beta = alpha + reg * np.log(u), beta + reg * np.log(v)\n",
    "            u,v = np.ones(n)/n, np.ones(n)/n\n",
    "            K = get_K(alpha,beta) #recompute transport map prescaled by alpha, beta\n",
    "        if i%25 == 0:\n",
    "            X = form_tpm(alpha,beta,u,v); Xr = AWR_round(X, np.append(r,c)); \n",
    "            std_obj.append(np.sum(Xr*M))\n",
    "            entropy_obj.append(np.sum(Xr*M) + mu*entropy(Xr))\n",
    "    return std_obj, entropy_obj"
   ]
  },
  {
   "cell_type": "code",
   "execution_count": 3,
   "metadata": {},
   "outputs": [],
   "source": [
    "def sinkhorn_getbaseline(M,r,c,T,reg):\n",
    "    alpha = np.zeros(n); beta = np.zeros(n) #checkpoint for scalings; this helps numerical stability\n",
    "    u,v = np.ones(n)/n, np.ones(n)/n\n",
    "    scaling_ub = 1e15\n",
    "    def get_K(alpha, beta):\n",
    "        return np.exp(-(M - alpha.reshape((-1, 1))\n",
    "                        - beta.reshape((1, -1))) / reg)\n",
    "    \n",
    "    def form_tpm(alpha, beta, u, v):\n",
    "        return np.exp(-(M - alpha.reshape((-1, 1)) - beta.reshape((1, -1)))\n",
    "                      / reg + np.log(u.reshape((-1, 1))) + np.log(v.reshape((1, -1))))\n",
    "    \n",
    "    K = get_K(alpha,beta)\n",
    "    for i in range(T): \n",
    "        u = r/(K@v); v = c/(K.T@u);\n",
    "        if abs(u).max() > scaling_ub or abs(v).max() > scaling_ub: #if entries of u,v are too large\n",
    "            alpha,beta = alpha + reg * np.log(u), beta + reg * np.log(v)\n",
    "            u,v = np.ones(n)/n, np.ones(n)/n\n",
    "            K = get_K(alpha,beta) #recompute transport map prescaled by alpha, beta\n",
    "    return form_tpm(alpha,beta,u,v), u*np.exp(alpha/reg), v*np.exp(beta/reg)"
   ]
  },
  {
   "cell_type": "code",
   "execution_count": 4,
   "metadata": {},
   "outputs": [],
   "source": [
    "def prox(n,b,A_xbar,K,xbar,ybar,mu,tol,alpha=1.5,beta=0.7):\n",
    "    x,y = xbar, ybar\n",
    "    x_scaling = np.exp(xbar)\n",
    "    A_x = A_xbar \n",
    "    \n",
    "    k = 0\n",
    "    while True:\n",
    "        #y[k+1] responds to x[k]\n",
    "        yp1 = clip((ybar*A_xbar/A_x) + (A_x-b)/(2*beta*A_x))\n",
    "        \n",
    "        #x[k+1] responds to y[k+1]\n",
    "        xp1_update = (-yp1 - beta*yp1**2 + beta*ybar**2);\n",
    "        xp1 = (alpha*xbar+xp1_update)/(alpha+mu); \n",
    "        xp1_scaling = np.exp(xp1)\n",
    "        \n",
    "        #compute row and column sums of x[k+1] transport map\n",
    "        A_xrowsum = xp1_scaling[:n]*(K@xp1_scaling[n:]) \n",
    "        A_xcolsum = xp1_scaling[n:]*(K@xp1_scaling[:n])\n",
    "        A_xp1 = np.append(A_xrowsum, A_xcolsum)\n",
    "        \n",
    "        #correct scalings to make transport map lie on simplex\n",
    "        x_sum = A_xrowsum.sum() \n",
    "        A_xp1 /= x_sum\n",
    "        xp1 -= np.log(x_sum)/2;\n",
    "        \n",
    "        k += 1\n",
    "        if la.norm(yp1-y,1) < tol:\n",
    "            yp1 = clip((ybar*A_xbar/A_xp1) + (A_xp1-b)/(2*beta*A_xp1))\n",
    "            return xp1, yp1, k, A_xp1, ybar\n",
    "        if k > 50:\n",
    "            raise Exception(\"Alternating minimization failed to converge\")\n",
    "            \n",
    "        #x[k], y[k] <- x[k+1], y[k+1]\n",
    "        x,y = xp1, yp1\n",
    "        x_scaling = xp1_scaling\n",
    "        A_x = A_xp1\n",
    "\n",
    "def sherman_proxpoint(b,C,T,mu,tolrate,x,alpha,beta):\n",
    "    K = np.exp(-C/mu); n = b.shape[0]//2; KC = K*C\n",
    "    xs = np.exp(x); y = np.zeros(2*n)\n",
    "    A_xrowsum = xs[:n]*(K@xs[n:]); A_xcolsum = xs[n:]*(K@xs[:n]); \n",
    "    A_xbar = np.append(A_xrowsum, A_xcolsum); \n",
    "    x_sum = A_xrowsum.sum(); A_xbar /= x_sum; x -= np.log(x_sum)/2;\n",
    "    prox_steps = 0; altmin_steps = 0\n",
    "    best = 100; x_best, y_best = x,y\n",
    "    \n",
    "    obj_track = []\n",
    "    altmin_track = []\n",
    "    ent_track = []\n",
    "    pdfe_track = []\n",
    "    new_obj = 10\n",
    "    \n",
    "    while altmin_steps < T:\n",
    "        x, y, k, A_xbar, ybar = prox(n,b,A_xbar,K,x,y,mu,tolrate/(i+1)**2,alpha,beta)\n",
    "        xs = np.exp(x);\n",
    "        lscale, rscale, er, ec = AWR_round_impl(K,xs[:n],xs[n:],b)\n",
    "        new_obj = lscale @ KC @ rscale + er @ C @ ec     \n",
    "        altmin_steps += k; prox_steps +=1;\n",
    "        altmin_track.append(altmin_steps)\n",
    "        obj_track.append(new_obj) \n",
    "        ent_track.append((x[:n]*lscale)@(K @ rscale)*mu+ (rscale*x[n:])@(K.T@lscale)*mu)\n",
    "        pdfe_track.append(xs[:n]@KC@xs[n:] +\n",
    "                          np.dot(xs[:n]*y[:n],(K@xs[n:])) + np.dot(xs[n:]*y[n:],(K@xs[:n])) \n",
    "                          - np.dot(y,b))\n",
    "    return altmin_track, np.array(obj_track), np.array(ent_track), np.array(pdfe_track)"
   ]
  },
  {
   "cell_type": "code",
   "execution_count": 5,
   "metadata": {},
   "outputs": [
    {
     "data": {
      "text/plain": [
       "'Iteration number: 0'"
      ]
     },
     "metadata": {},
     "output_type": "display_data"
    },
    {
     "data": {
      "text/plain": [
       "'Iteration number: 1'"
      ]
     },
     "metadata": {},
     "output_type": "display_data"
    },
    {
     "data": {
      "text/plain": [
       "'Iteration number: 1'"
      ]
     },
     "metadata": {},
     "output_type": "display_data"
    }
   ],
   "source": [
    "mu = 1/10\n",
    "mu_OPT = []; \n",
    "mu_ENT = []\n",
    "n=784; q=1\n",
    "problems = [79543, 893654, 439093, 901514, 892506, 213308, 730353, 857810, 248698, 639250, 941094, 848481, 225911, 438703, 656015, 472702, 464413, 330074, 291973, 67746]\n",
    "digit = [0, 8, 2, 9, 0, 0, 5, 3, 8, 5, 9, 0, 4, 0, 0, 7, 4, 1, 7, 7]\n",
    "\n",
    "i_disp = display(f\"Iteration number: {0}\",display_id=True)\n",
    "for idx in range(q):\n",
    "    rng = np.random.default_rng(problems[idx])\n",
    "    b, C = mnist_instance(df,counts,rng,digit[idx])\n",
    "    X,_,_ = sinkhorn_getbaseline(C,b[:n], b[n:],4000,mu)\n",
    "    i_disp.update(f\"Iteration number: {idx}\")\n",
    "    if la.norm(marginals(X)-b,1) > 1e-13: \n",
    "        print(\"Warning on iteration \", idx)\n",
    "    Xr = AWR_round(X,b)\n",
    "    mu_OPT.append(np.sum(Xr*C))\n",
    "    mu_ENT.append(np.sum(Xr*C) + mu*entropy(Xr))\n",
    "    \n",
    "mu_sink_track = [];\n",
    "i_disp = display(f\"Iteration number: {0}\",display_id=True)\n",
    "for idx in range(q):\n",
    "    rng = np.random.default_rng(problems[idx])\n",
    "    b, C = mnist_instance(df,counts,rng,digit[idx])\n",
    "    i_disp.update(f\"Iteration number: {idx+1}\")\n",
    "    mu_sink_track.append(sinkhorn_track_progress(C,b[:n], b[n:],1000,mu))\n",
    "\n",
    "    \n",
    "mu_proxpoint_track = []; \n",
    "n=784\n",
    "problems = [79543, 893654, 439093, 901514, 892506, 213308, 730353, 857810, 248698, 639250, 941094, 848481, 225911, 438703, 656015, 472702, 464413, 330074, 291973, 67746]\n",
    "digit = [0, 8, 2, 9, 0, 0, 5, 3, 8, 5, 9, 0, 4, 0, 0, 7, 4, 1, 7, 7]\n",
    "i_disp = display(f\"Iteration number: {0}\",display_id=True)\n",
    "for idx in range(q):\n",
    "    rng = np.random.default_rng(problems[idx])\n",
    "    b, C = mnist_instance(df,counts,rng,digit[idx])\n",
    "    i_disp.update(f\"Iteration number: {idx+1}\")\n",
    "    mu_proxpoint_track.append(sherman_proxpoint(b,C,1100,mu,1e4,np.zeros(2*n),2,1))"
   ]
  },
  {
   "cell_type": "code",
   "execution_count": 6,
   "metadata": {},
   "outputs": [
    {
     "data": {
      "image/png": "[encoded data removed]",
      "text/plain": [
       "<Figure size 432x288 with 1 Axes>"
      ]
     },
     "metadata": {
      "needs_background": "light"
     },
     "output_type": "display_data"
    },
    {
     "data": {
      "image/png": "[encoded data removed]",
      "text/plain": [
       "<Figure size 432x288 with 1 Axes>"
      ]
     },
     "metadata": {
      "needs_background": "light"
     },
     "output_type": "display_data"
    },
    {
     "data": {
      "image/png": "[encoded data removed]",
      "text/plain": [
       "<Figure size 432x288 with 1 Axes>"
      ]
     },
     "metadata": {
      "needs_background": "light"
     },
     "output_type": "display_data"
    }
   ],
   "source": [
    "sink_obj_arr = np.zeros((q,40)); muOPT_avg = 0 \n",
    "for i in range(q):\n",
    "    sink_obj_arr[i,:] = np.array(mu_sink_track[i][0] - mu_OPT[i])\n",
    "    muOPT_avg += mu_OPT[i]/q\n",
    " \n",
    "    \n",
    "testpts = np.linspace(5,1005,40)\n",
    "interp_fe = np.zeros(40)\n",
    "fe_all = np.ones((q,40))\n",
    "for i in range(q):\n",
    "    p_it, p_fn,_,_ = mu_proxpoint_track[i]; p_fn = np.array(p_fn) - mu_OPT[i];\n",
    "    f = intp.interp1d(p_it, p_fn)\n",
    "    interp_fe += f(testpts)/q + mu_OPT[i]/q\n",
    "    fe_all[i,:] = f(testpts)\n",
    "\n",
    "plt.errorbar(np.linspace(0,1000,40), muOPT_avg+np.mean(fe_all,axis=0),yerr= np.std(fe_all,axis=0))\n",
    "plt.errorbar(np.linspace(0,1000,40),muOPT_avg+np.mean(sink_obj_arr,axis=0),yerr= np.std(sink_obj_arr,axis=0))\n",
    "plt.legend([\"Box Simplex Prox Point\",'Sinkhorn'])\n",
    "plt.xlabel(\"Number of Matrix-Vector Products\")\n",
    "plt.ylabel(\"Transportation Cost\")\n",
    "plt.title(f\"Regularized Optimal Transport, $\\mu$ = {mu}\")\n",
    "plt.show()\n",
    "\n",
    "sink_obj_arr = np.zeros((q,40)); muENT_avg=0\n",
    "for i in range(q):\n",
    "    sink_obj_arr[i,:] = np.array(mu_sink_track[i][1]) - mu_ENT[i]\n",
    "    muENT_avg += mu_ENT[i]/q\n",
    "    \n",
    "testpts = np.linspace(5,1005,40)\n",
    "interp_fe = np.zeros(40)\n",
    "fe_all = np.ones((q,40))\n",
    "for i in range(q):\n",
    "    p_it, _,p_en,_ = mu_proxpoint_track[i]; p_en = np.array(p_en) - mu_ENT[i]\n",
    "    f = intp.interp1d(p_it, p_en)\n",
    "    fe_all[i,:] = f(testpts)\n",
    "\n",
    "plt.errorbar(np.linspace(0,1000,40)[1:], muENT_avg+np.mean(fe_all,axis=0)[1:],yerr= np.std(fe_all,axis=0)[1:])\n",
    "plt.errorbar(np.linspace(0,1000,40),muENT_avg+np.mean(sink_obj_arr,axis=0),yerr= np.std(sink_obj_arr,axis=0))\n",
    "plt.legend([\"Box-Simplex Prox Point\",'Sinkhorn'])\n",
    "plt.xlabel(\"Number of Matrix-Vector Products\")\n",
    "plt.ylabel(\"Function Error of Entropic Regularization\")\n",
    "plt.title(f\"Regularized Optimal Transport, $\\mu$ = {mu}\")\n",
    "plt.show()\n",
    "\n",
    "testpts = np.arange(5,1005)\n",
    "\n",
    "pdfe = np.zeros(1000)\n",
    "for i in range(q):\n",
    "    p_it, _,_,p_pdfe = mu_proxpoint_track[i]; p_pdfe = np.array(p_pdfe)\n",
    "    f = intp.interp1d(p_it, p_pdfe)\n",
    "    pdfe += f(testpts)/q\n",
    "\n",
    "sink_fe = np.zeros(40)\n",
    "for i in range(q):\n",
    "    sink_fe= sink_fe+ np.array(mu_sink_track[i][0])\n",
    "    \n",
    "plt.plot(testpts,pdfe)\n",
    "plt.plot(np.linspace(0,1000,40), sink_fe/q)\n",
    "plt.legend([\"Box-Simplex Prox Point\",'Sinkhorn'])\n",
    "plt.xlabel(\"Number of Matrix-Vector Products\")\n",
    "plt.ylabel(\"Primal-Dual Function Error\")\n",
    "plt.title(f\"Regularized Optimal Transport, $\\mu$ = {mu}\")\n",
    "plt.show()"
   ]
  },
  {
   "cell_type": "code",
   "execution_count": null,
   "metadata": {},
   "outputs": [],
   "source": []
  }
 ],
 "metadata": {
  "kernelspec": {
   "display_name": "Python 3",
   "language": "python",
   "name": "python3"
  },
  "language_info": {
   "codemirror_mode": {
    "name": "ipython",
    "version": 3
   },
   "file_extension": ".py",
   "mimetype": "text/x-python",
   "name": "python",
   "nbconvert_exporter": "python",
   "pygments_lexer": "ipython3",
   "version": "3.7.3"
  }
 },
 "nbformat": 4,
 "nbformat_minor": 4
}
